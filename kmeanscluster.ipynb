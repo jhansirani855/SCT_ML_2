{
 "cells": [
  {
   "cell_type": "code",
   "execution_count": 1,
   "id": "2bfb66e1-d3eb-49c2-9182-0f4e214fc9db",
   "metadata": {},
   "outputs": [],
   "source": [
    "import pandas as pd\n",
    "import numpy as np\n",
    "import matplotlib.pyplot as plt\n",
    "import seaborn as sns\n",
    "from sklearn.cluster import KMeans\n"
   ]
  },
  {
   "cell_type": "code",
   "execution_count": null,
   "id": "3455cb5c-8e57-43ae-b68e-ba2cd40a0032",
   "metadata": {},
   "outputs": [],
   "source": [
    "# Load the dataset\n",
    "data = pd.read_csv(\"customers.csv\")  # Make sure your file is named 'customers.csv'\n",
    "data.head()\n"
   ]
  },
  {
   "cell_type": "code",
   "execution_count": null,
   "id": "45cc37a3-b883-49a5-8936-eaf22c7dec7f",
   "metadata": {},
   "outputs": [],
   "source": [
    "# Display info and check for missing values\n",
    "data.info()\n",
    "print(\"\\nMissing values in each column:\\n\", data.isnull().sum())\n"
   ]
  },
  {
   "cell_type": "code",
   "execution_count": null,
   "id": "6d131276-a8ec-48bb-9379-8b996567d924",
   "metadata": {},
   "outputs": [],
   "source": [
    "# Selecting relevant columns for clustering\n",
    "x = data[['Annual Income (k$)', 'Spending Score (1-100)']]\n",
    "x.head()\n"
   ]
  },
  {
   "cell_type": "code",
   "execution_count": null,
   "id": "05f690be-2d61-45bf-8b32-10f2d53da7aa",
   "metadata": {},
   "outputs": [],
   "source": [
    "wcss = []  # within-cluster sum of squares\n",
    "\n",
    "for i in range(1, 11):\n",
    "    kmeans = KMeans(n_clusters=i, init='k-means++', random_state=42)\n",
    "    kmeans.fit(x)\n",
    "    wcss.append(kmeans.inertia_)\n",
    "\n",
    "# Plot Elbow Curve\n",
    "plt.figure(figsize=(8, 5))\n",
    "plt.plot(range(1, 11), wcss, marker='o', linestyle='--')\n",
    "plt.title(\"Elbow Method for Optimal K\")\n",
    "plt.xlabel(\"Number of Clusters\")\n",
    "plt.ylabel(\"WCSS\")\n",
    "plt.show()\n"
   ]
  },
  {
   "cell_type": "code",
   "execution_count": null,
   "id": "b48f005c-66e2-422b-8b48-e180ebadcec8",
   "metadata": {},
   "outputs": [],
   "source": [
    "# From the elbow curve, usually k=5 is optimal\n",
    "kmeans = KMeans(n_clusters=5, init='k-means++', random_state=42)\n",
    "y_kmeans = kmeans.fit_predict(x)\n",
    "\n",
    "# Add cluster column to data\n",
    "data['Cluster'] = y_kmeans\n",
    "data.head()\n"
   ]
  },
  {
   "cell_type": "code",
   "execution_count": null,
   "id": "e7d6b78d-ed40-44b2-a5f5-406413a71d21",
   "metadata": {},
   "outputs": [],
   "source": [
    "plt.figure(figsize=(8, 6))\n",
    "colors = ['red', 'blue', 'green', 'cyan', 'magenta']\n",
    "\n",
    "for i in range(5):\n",
    "    plt.scatter(x.values[y_kmeans == i, 0],\n",
    "                x.values[y_kmeans == i, 1],\n",
    "                s=80, c=colors[i], label=f'Cluster {i+1}')\n",
    "\n",
    "# Plot cluster centers\n",
    "plt.scatter(kmeans.cluster_centers_[:, 0], \n",
    "            kmeans.cluster_centers_[:, 1],\n",
    "            s=250, c='yellow', marker='*', label='Centroids')\n",
    "\n",
    "plt.title('Customer Segments Based on Income & Spending Score')\n",
    "plt.xlabel('Annual Income (k$)')\n",
    "plt.ylabel('Spending Score (1–100)')\n",
    "plt.legend()\n",
    "plt.show()\n"
   ]
  },
  {
   "cell_type": "code",
   "execution_count": null,
   "id": "d3b12cb4-2ffa-414b-8530-7e742c730a10",
   "metadata": {},
   "outputs": [],
   "source": [
    "# Display average values of each cluster\n",
    "cluster_summary = data.groupby('Cluster')[['Age', 'Annual Income (k$)', 'Spending Score (1-100)']].mean()\n",
    "cluster_summary\n"
   ]
  },
  {
   "cell_type": "code",
   "execution_count": null,
   "id": "b3df309a-448c-452b-ba51-bf32b752b844",
   "metadata": {},
   "outputs": [],
   "source": [
    "data.to_csv(\"clustered_customers.csv\", index=False)\n",
    "print(\"Clustered customer data saved as clustered_customers.csv ✅\")\n"
   ]
  }
 ],
 "metadata": {
  "kernelspec": {
   "display_name": "Python 3 (ipykernel)",
   "language": "python",
   "name": "python3"
  },
  "language_info": {
   "codemirror_mode": {
    "name": "ipython",
    "version": 3
   },
   "file_extension": ".py",
   "mimetype": "text/x-python",
   "name": "python",
   "nbconvert_exporter": "python",
   "pygments_lexer": "ipython3",
   "version": "3.14.0"
  }
 },
 "nbformat": 4,
 "nbformat_minor": 5
}
